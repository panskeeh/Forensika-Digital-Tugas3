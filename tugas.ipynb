{
 "cells": [
  {
   "cell_type": "code",
   "execution_count": 20,
   "metadata": {},
   "outputs": [
    {
     "name": "stdout",
     "output_type": "stream",
     "text": [
      "Metadata sebelum diedit:\n",
      "Metadata PDF sebelum diedit:\n",
      "/Author: HISYAM HAFIS\n",
      "/Creator: Microsoft® Word 2016\n",
      "/CreationDate: D:20210817223219+07'00'\n",
      "/ModDate: D:20210817223219+07'00'\n",
      "/Producer: Microsoft® Word 2016\n"
     ]
    }
   ],
   "source": [
    "from PyPDF2 import PdfReader, PdfWriter\n",
    "from reportlab.lib.pagesizes import letter\n",
    "from reportlab.pdfgen import canvas\n",
    "import base64\n",
    "import io\n",
    "import os\n",
    "\n",
    "\n",
    "def cek_metadata(file_path):\n",
    "    try:\n",
    "        with open(file_path, 'rb') as file:\n",
    "            pdf = PdfReader(file)\n",
    "            metadata = pdf.trailer['/Info']\n",
    "            print(\"Metadata PDF sebelum diedit:\")\n",
    "            for key, value in metadata.items():\n",
    "                print(f\"{key}: {value}\")\n",
    "            return metadata\n",
    "    except Exception as e:\n",
    "        print(f\"Error: {e}\")\n",
    "        return None\n",
    "\n",
    "\n",
    "# Contoh pemanggilan fungsi\n",
    "file_path = \"contoh.pdf\"\n",
    "image_path = \"SBY.png\"\n",
    "print(\"Metadata sebelum diedit:\")\n",
    "metadata = cek_metadata(file_path)\n"
   ]
  },
  {
   "cell_type": "code",
   "execution_count": 21,
   "metadata": {},
   "outputs": [
    {
     "name": "stdout",
     "output_type": "stream",
     "text": [
      "\n",
      "Masukkan metadata baru (biarkan kosong untuk mempertahankan metadata yang ada):\n",
      "Metadata PDF telah diperbarui. File baru disimpan di: contoh_edited.pdf\n"
     ]
    }
   ],
   "source": [
    "def edit_metadata(file_path, new_metadata):\n",
    "    try:\n",
    "        with open(file_path, 'rb') as file:\n",
    "            pdf = PdfReader(file)\n",
    "            writer = PdfWriter()\n",
    "\n",
    "            # Copy pages from original PDF\n",
    "            for page in pdf.pages:\n",
    "                writer.add_page(page)\n",
    "\n",
    "            # Set new metadata\n",
    "            writer.add_metadata(new_metadata)\n",
    "\n",
    "            # Save the modified PDF\n",
    "            output_path = os.path.splitext(file_path)[0] + \"_edited.pdf\"\n",
    "            with open(output_path, 'wb') as output_file:\n",
    "                writer.write(output_file)\n",
    "            \n",
    "            print(f\"Metadata PDF telah diperbarui. File baru disimpan di: {output_path}\")\n",
    "    except Exception as e:\n",
    "        print(f\"Error: {e}\")\n",
    "\n",
    "if metadata:\n",
    "    # Meminta pengguna untuk memasukkan metadata baru\n",
    "    print(\"\\nMasukkan metadata baru (biarkan kosong untuk mempertahankan metadata yang ada):\")\n",
    "    new_metadata = {}\n",
    "    new_metadata['/Title'] = input(\"Judul baru: \").strip() or metadata.get('/Title', '')\n",
    "    new_metadata['/Author'] = input(\"Penulis baru: \").strip() or metadata.get('/Author', '')\n",
    "    new_metadata['/Subject'] = input(\"Subjek baru: \").strip() or metadata.get('/Subject', '')\n",
    "    new_metadata['/Keywords'] = input(\"Kata kunci baru: \").strip() or metadata.get('/Keywords', '')\n",
    "    new_metadata['/Producer'] = input(\"Produser baru: \").strip() or metadata.get('/Producer', '')\n",
    "\n",
    "    # Mengedit metadata pada file PDF\n",
    "    edit_metadata(file_path, new_metadata)\n",
    "\n",
    "\n"
   ]
  },
  {
   "cell_type": "code",
   "execution_count": 22,
   "metadata": {},
   "outputs": [
    {
     "name": "stdout",
     "output_type": "stream",
     "text": [
      "Gambar telah ditambahkan ke PDF. File baru disimpan di: contoh_modified.pdf\n"
     ]
    }
   ],
   "source": [
    "def tambah_gambar(file_path,  image_path):\n",
    "    try:\n",
    "        # Menggabungkan halaman kosong dengan file PDF yang ada\n",
    "        with open(file_path, 'rb') as file:\n",
    "            pdf = PdfReader(file)\n",
    "            writer = PdfWriter()\n",
    "\n",
    "            # Membuat halaman baru dengan logo yang disembunyikan\n",
    "            packet = io.BytesIO()\n",
    "            can = canvas.Canvas(packet, pagesize=letter)\n",
    "            can.drawImage(image_path, 0, 0, width=letter[0], height=letter[1])\n",
    "            can.setFillColorRGB(1, 1, 1)  \n",
    "            can.rect(0, 0, letter[0], letter[1], fill=1, stroke=0)\n",
    "            can.showPage()\n",
    "            can.save()\n",
    "            packet.seek(0)\n",
    "            logo_pdf = PdfReader(packet)\n",
    "            logo_page = logo_pdf.pages[0]\n",
    "            writer.add_page(logo_page)\n",
    "\n",
    "            # Menyalin halaman-halaman PDF yang ada\n",
    "            for page in pdf.pages:\n",
    "                writer.add_page(page)\n",
    "\n",
    "            # Simpan PDF yang telah dimodifikasi\n",
    "            output_path = os.path.splitext(file_path)[0] + \"_modified.pdf\"\n",
    "            with open(output_path, 'wb') as output_file:\n",
    "                writer.write(output_file)\n",
    "            \n",
    "            print(f\"Gambar telah ditambahkan ke PDF. File baru disimpan di: {output_path}\")\n",
    "\n",
    "    except Exception as e:\n",
    "        print(f\"Error: {e}\")\n",
    "\n",
    "# Menambahkan gambar ke PDF\n",
    "tambah_gambar(file_path, image_path)"
   ]
  }
 ],
 "metadata": {
  "kernelspec": {
   "display_name": "base",
   "language": "python",
   "name": "python3"
  },
  "language_info": {
   "codemirror_mode": {
    "name": "ipython",
    "version": 3
   },
   "file_extension": ".py",
   "mimetype": "text/x-python",
   "name": "python",
   "nbconvert_exporter": "python",
   "pygments_lexer": "ipython3",
   "version": "3.9.12"
  }
 },
 "nbformat": 4,
 "nbformat_minor": 2
}
